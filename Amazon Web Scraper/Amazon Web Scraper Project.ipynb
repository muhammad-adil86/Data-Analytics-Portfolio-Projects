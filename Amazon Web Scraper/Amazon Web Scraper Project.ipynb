{
 "cells": [
  {
   "cell_type": "markdown",
   "id": "c9329ca4",
   "metadata": {},
   "source": [
    "</p>\n",
    "\n",
    "# Amazon Web Scrapping with Python\n",
    "\n",
    "This is an introductory project on web scraping and how to automate the price monitoring of any product on Amazon or any other e-commerce website to take advantage of holiday sales."
   ]
  },
  {
   "cell_type": "markdown",
   "id": "7ec54d51",
   "metadata": {},
   "source": [
    "<h2 id=\"import_data\">Import Libararies</h2>"
   ]
  },
  {
   "cell_type": "code",
   "execution_count": null,
   "id": "4cc3e61f",
   "metadata": {},
   "outputs": [],
   "source": [
    "# Import libraries \n",
    "\n",
    "from bs4 import BeautifulSoup\n",
    "import requests\n",
    "import time\n",
    "import datetime\n",
    "import csv\n",
    "import pandas as pd\n",
    "\n",
    "import smtplib"
   ]
  },
  {
   "cell_type": "markdown",
   "id": "471f64df",
   "metadata": {},
   "source": [
    "<h2 id=\"import_data\">Implement Web Scraping</h2>"
   ]
  },
  {
   "cell_type": "code",
   "execution_count": 2,
   "id": "d0f56065",
   "metadata": {},
   "outputs": [],
   "source": [
    "# Connect to website\n",
    "\n",
    "URL = 'https://www.amazon.com/Data-Analyst-T-Shirt-Male-Boss/dp/B09T5BKPS3/ref=sr_1_2?crid=3QC740Q5M8190&keywords=data%2Banalyst%2Btshirt&qid=1672187720&sprefix=data%2Banalyst%2Btshirt%2Caps%2C145&sr=8-2&th=1&psc=1'\n",
    "headers = {\"User-Agent\": \"Mozilla/5.0 (Windows NT 10.0; Win64; x64) AppleWebKit/537.36 (KHTML, like Gecko) Chrome/108.0.0.0 Safari/537.36\", \"Accept-Encoding\":\"gzip, deflate\", \"Accept\":\"text/html,application/xhtml+xml,application/xml;q=0.9,*/*;q=0.8\", \"DNT\":\"1\",\"Connection\":\"close\", \"Upgrade-Insecure-Requests\":\"1\"}\n",
    "\n",
    "# Pull in data\n",
    "page = requests.get(URL, headers=headers)\n",
    "soup1 = BeautifulSoup(page.content, 'html.parser')\n",
    "soup2 = BeautifulSoup(soup1.prettify(), 'html.parser')\n"
   ]
  },
  {
   "cell_type": "code",
   "execution_count": 3,
   "id": "4aed04c7",
   "metadata": {},
   "outputs": [
    {
     "name": "stdout",
     "output_type": "stream",
     "text": [
      "\n",
      "                Data Analyst T-Shirt for Men,Him, Male, Boss, Son - What's Your Superpower Tee Top - Men Clothing Shirt for Data Analyst\n",
      "               \n",
      "\n",
      "\n",
      "\n",
      "\n",
      "\n",
      "               $25.75\n",
      "              \n",
      "\n",
      "\n",
      "                $\n",
      "               \n",
      "\n",
      "                25\n",
      "                \n",
      "                 .\n",
      "                \n",
      "\n",
      "\n",
      "                75\n",
      "               \n",
      "\n",
      "\n",
      "\n",
      "\n",
      "\n",
      "\n",
      "\n",
      "\n",
      "\n",
      "\n",
      "\n",
      "\n"
     ]
    }
   ],
   "source": [
    "# Pull in product title & price specifically\n",
    "\n",
    "title = soup2.find(id='productTitle').get_text()\n",
    "price = soup2.find(id='corePriceDisplay_desktop_feature_div').get_text()\n",
    "\n",
    "print(title)\n",
    "print(price)"
   ]
  },
  {
   "cell_type": "code",
   "execution_count": 4,
   "id": "3f081ccd",
   "metadata": {},
   "outputs": [
    {
     "name": "stdout",
     "output_type": "stream",
     "text": [
      "Data Analyst T-Shirt for Men,Him, Male, Boss, Son - What's Your Superpower Tee Top - Men Clothing Shirt for Data Analyst\n",
      "25.75\n"
     ]
    }
   ],
   "source": [
    "# Clean up the data a little bit\n",
    "\n",
    "price = price.strip()[1:6] # Remove leading and trailing whitespace and extract the first 5 characters\n",
    "title = title.strip() # Remove leading and trailing whitespace\n",
    "\n",
    "print(title) #having string as type\n",
    "print(price) #having string as type"
   ]
  },
  {
   "cell_type": "code",
   "execution_count": 5,
   "id": "6c595d1f",
   "metadata": {},
   "outputs": [
    {
     "name": "stdout",
     "output_type": "stream",
     "text": [
      "2022-12-27\n"
     ]
    }
   ],
   "source": [
    "# Create a Timestamp for your output to track when data was collected\n",
    "\n",
    "import datetime\n",
    "\n",
    "today = datetime.date.today()\n",
    "print(today)"
   ]
  },
  {
   "cell_type": "markdown",
   "id": "010e87ea",
   "metadata": {},
   "source": [
    "<h2 id=\"import_data\">Storing Scraped Data</h2>"
   ]
  },
  {
   "cell_type": "code",
   "execution_count": 6,
   "id": "c4bbe567",
   "metadata": {},
   "outputs": [],
   "source": [
    "# Create CSV and write headers and data into the file\n",
    "\n",
    "import csv \n",
    "\n",
    "header = ['Product Title', 'Price', 'Date']\n",
    "data = [title, price, today] #converting into a list\n",
    "\n",
    "\n",
    "with open('AmazonWebScraperDataset.csv', 'w', newline='', encoding='UTF8') as f:\n",
    "    writer = csv.writer(f)\n",
    "    writer.writerow(header)\n",
    "    writer.writerow(data)"
   ]
  },
  {
   "cell_type": "code",
   "execution_count": 7,
   "id": "2c178169",
   "metadata": {},
   "outputs": [
    {
     "data": {
      "text/html": [
       "<div>\n",
       "<style scoped>\n",
       "    .dataframe tbody tr th:only-of-type {\n",
       "        vertical-align: middle;\n",
       "    }\n",
       "\n",
       "    .dataframe tbody tr th {\n",
       "        vertical-align: top;\n",
       "    }\n",
       "\n",
       "    .dataframe thead th {\n",
       "        text-align: right;\n",
       "    }\n",
       "</style>\n",
       "<table border=\"1\" class=\"dataframe\">\n",
       "  <thead>\n",
       "    <tr style=\"text-align: right;\">\n",
       "      <th></th>\n",
       "      <th>Product Title</th>\n",
       "      <th>Price</th>\n",
       "      <th>Date</th>\n",
       "    </tr>\n",
       "  </thead>\n",
       "  <tbody>\n",
       "    <tr>\n",
       "      <th>0</th>\n",
       "      <td>Data Analyst T-Shirt for Men,Him, Male, Boss, ...</td>\n",
       "      <td>25.75</td>\n",
       "      <td>2022-12-27</td>\n",
       "    </tr>\n",
       "  </tbody>\n",
       "</table>\n",
       "</div>"
      ],
      "text/plain": [
       "                                       Product Title  Price        Date\n",
       "0  Data Analyst T-Shirt for Men,Him, Male, Boss, ...  25.75  2022-12-27"
      ]
     },
     "execution_count": 7,
     "metadata": {},
     "output_type": "execute_result"
    }
   ],
   "source": [
    "# Read dataset without opening the csv file repeatedly\n",
    "\n",
    "import pandas as pd\n",
    "\n",
    "df = pd.read_csv(r'C:\\Users\\Muham\\Portfolio Projects\\AmazonWebScraperDataset.csv')\n",
    "df"
   ]
  },
  {
   "cell_type": "code",
   "execution_count": 8,
   "id": "ad42f2ee",
   "metadata": {},
   "outputs": [],
   "source": [
    "# Appending data to the csv\n",
    "\n",
    "with open('AmazonWebScraperDataset.csv', 'a+', newline='', encoding='UTF8') as f:\n",
    "    writer = csv.writer(f)\n",
    "    writer.writerow(data)"
   ]
  },
  {
   "cell_type": "markdown",
   "id": "676ca607",
   "metadata": {},
   "source": [
    "<h2 id=\"import_data\">Automate Web Scraping & Storing Data</h2>"
   ]
  },
  {
   "cell_type": "code",
   "execution_count": 9,
   "id": "ac81c8d4",
   "metadata": {},
   "outputs": [],
   "source": [
    "# Combine all of the above code into one function\n",
    "\n",
    "def check_price():\n",
    "    URL = 'https://www.amazon.com/Data-Analyst-T-Shirt-Male-Boss/dp/B09T5BKPS3/ref=sr_1_2?crid=3QC740Q5M8190&keywords=data%2Banalyst%2Btshirt&qid=1672187720&sprefix=data%2Banalyst%2Btshirt%2Caps%2C145&sr=8-2&th=1&psc=1'\n",
    "    headers = {\"User-Agent\": \"Mozilla/5.0 (Windows NT 10.0; Win64; x64) AppleWebKit/537.36 (KHTML, like Gecko) Chrome/108.0.0.0 Safari/537.36\", \"Accept-Encoding\":\"gzip, deflate\", \"Accept\":\"text/html,application/xhtml+xml,application/xml;q=0.9,*/*;q=0.8\", \"DNT\":\"1\",\"Connection\":\"close\", \"Upgrade-Insecure-Requests\":\"1\"}\n",
    "\n",
    "    page = requests.get(URL, headers=headers)\n",
    "    soup1 = BeautifulSoup(page.content, 'html.parser')\n",
    "    soup2 = BeautifulSoup(soup1.prettify(), 'html.parser')\n",
    "\n",
    "    title = soup2.find(id='productTitle').get_text()\n",
    "    price = soup2.find(id='corePriceDisplay_desktop_feature_div').get_text()\n",
    "\n",
    "    price = price.strip()[1:6]\n",
    "    title = title.strip()\n",
    "  \n",
    "    today = datetime.date.today()    \n",
    "\n",
    "    header = ['Product Title', 'Price', 'Date']\n",
    "    data = [title, price, today]\n",
    "\n",
    "    with open('AmazonWebScraperDataset.csv', 'a+', newline='', encoding='UTF8') as f:\n",
    "        writer = csv.writer(f)\n",
    "        writer.writerow(data)\n",
    "    \n",
    "    # Convert the price to a float\n",
    "    price = float(price) #in order to compare it to the integer value 20\n",
    "    \n",
    "    if(price < 20):\n",
    "        send_mail()"
   ]
  },
  {
   "cell_type": "code",
   "execution_count": null,
   "id": "61a33dac",
   "metadata": {},
   "outputs": [],
   "source": [
    "# Runs check_price after a set time and inputs data into your CSV\n",
    "\n",
    "while(True):\n",
    "    check_price()\n",
    "    time.sleep(86400) #every 24 hours"
   ]
  },
  {
   "cell_type": "markdown",
   "id": "0b18aec6",
   "metadata": {},
   "source": [
    "<h2 id=\"import_data\">Additional: Send Notification Email</h2>"
   ]
  },
  {
   "cell_type": "code",
   "execution_count": null,
   "id": "3d52038b",
   "metadata": {},
   "outputs": [],
   "source": [
    "# If you may want to send yourself/someone an email when a price hits below a certain threshold (say below 20)\n",
    "\n",
    "def send_mail():\n",
    "    try:\n",
    "        # Create an SMTP_SSL object\n",
    "        server = smtplib.SMTP_SSL('smtp.gmail.com',465)\n",
    "        server.ehlo()\n",
    "        #server.starttls()\n",
    "        server.ehlo()\n",
    "        \n",
    "        # Login to the SMTP server\n",
    "        server.login('youremail@gmail.com','passowrd')\n",
    "        \n",
    "        # Construct the email message\n",
    "\n",
    "        subject = \"The Shirt you want is below $15! Now is your chance to buy!\"\n",
    "        body = \"Hey you, This is the moment we have been waiting for. Now is your chance to pick up the shirt of your dreams. Don't mess it up! Link here: https://www.amazon.com/Data-Analyst-T-Shirt-Male-Boss/dp/B09T5BKPS3/ref=sr_1_2?crid=3QC740Q5M8190&keywords=data%2Banalyst%2Btshirt&qid=1672187720&sprefix=data%2Banalyst%2Btshirt%2Caps%2C145&sr=8-2&th=1&psc=1\"\n",
    "\n",
    "        msg = f\"Subject: {subject}\\n\\n{body}\"\n",
    "        \n",
    "        # Send the email\n",
    "        server.sendmail('youremail@gmail.com', msg)\n",
    "        \n",
    "        # Close the connection\n",
    "        server.close()\n",
    "        \n",
    "    except Exception as e:\n",
    "        print(f\"An error occurred while sending the email: {e}\")"
   ]
  }
 ],
 "metadata": {
  "kernelspec": {
   "display_name": "Python 3 (ipykernel)",
   "language": "python",
   "name": "python3"
  },
  "language_info": {
   "codemirror_mode": {
    "name": "ipython",
    "version": 3
   },
   "file_extension": ".py",
   "mimetype": "text/x-python",
   "name": "python",
   "nbconvert_exporter": "python",
   "pygments_lexer": "ipython3",
   "version": "3.9.13"
  }
 },
 "nbformat": 4,
 "nbformat_minor": 5
}
