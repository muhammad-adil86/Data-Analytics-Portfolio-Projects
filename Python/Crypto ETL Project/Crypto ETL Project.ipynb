{
 "cells": [
  {
   "cell_type": "markdown",
   "id": "f7896c64",
   "metadata": {},
   "source": [
    "</p>\n",
    "\n",
    "# ETL Pipeline for Real-time Crypto Market Data Analysis\n",
    "\n",
    "This is an ETL pipeline project that extracts data on crypto coin market from <a href=\"https://coinmarketcap.com/api/documentation/v1/#\">CoinMarketCap API</a>, transforms the data by cleaning and normalizing it, and loads it into a CSV database. The data can then be used to create a bar chart or line graph visualization to show the consumption trends over time."
   ]
  },
  {
   "cell_type": "markdown",
   "id": "97b33027",
   "metadata": {},
   "source": [
    "<h2 id=\"import_data\">Import Libararies</h2>"
   ]
  },
  {
   "cell_type": "code",
   "execution_count": null,
   "id": "ddb9ade9",
   "metadata": {},
   "outputs": [],
   "source": [
    "# Import libraries\n",
    "\n",
    "from requests import Request, Session\n",
    "from requests.exceptions import ConnectionError, Timeout, TooManyRedirects\n",
    "import json\n",
    "import pandas as pd\n",
    "import os\n",
    "import datetime"
   ]
  },
  {
   "cell_type": "markdown",
   "id": "b1da6ba4",
   "metadata": {},
   "source": [
    "<h2 id=\"import_data\">1. Extract</h2>\n",
    "\n",
    "The extract stage is where data is gathered from the API. In this code snippet, data is extracted from the CoinMarketCap API using the **requests** library. The API endpoint, parameters, and headers are defined, and a session is created to handle the API request. The API response is then parsed into a JSON object and returned."
   ]
  },
  {
   "cell_type": "code",
   "execution_count": 2,
   "id": "eff35779",
   "metadata": {},
   "outputs": [],
   "source": [
    "#Pull data from CoinMarketCap API\n",
    "\n",
    "def extract_data():\n",
    "    url = 'https://pro-api.coinmarketcap.com/v1/cryptocurrency/listings/latest' \n",
    "    #Original Sandbox Environment: 'https://sandbox-api.coinmarketcap.com/v1/cryptocurrency/listings/latest'\n",
    "    parameters = {\n",
    "        'start':'1',\n",
    "        'limit':'10', #limit to top 10 crypto coins\n",
    "        'convert':'USD'\n",
    "    }\n",
    "    headers = {\n",
    "        'Accepts': 'application/json',\n",
    "        'X-CMC_PRO_API_KEY': '0ad53085-1cb2-4eb8-ad9e-3ffbd7e56509',\n",
    "    }\n",
    "    session = Session()\n",
    "    session.headers.update(headers)\n",
    "    try:\n",
    "        response = session.get(url, params=parameters)\n",
    "        data = json.loads(response.text)\n",
    "        print(data)\n",
    "        return data\n",
    "    except (ConnectionError, Timeout, TooManyRedirects) as e:\n",
    "        print(e)"
   ]
  },
  {
   "cell_type": "markdown",
   "id": "96add23f",
   "metadata": {},
   "source": [
    "<h2 id=\"import_data\">2. Transform</h2>\n",
    "\n",
    "The transform stage is where the data is cleaned, transformed, and prepared for loading into the database. In this code snippet, the data is first normalized using the **pandas** library, then various data cleaning and transformation operations are performed such as calculating the mean of different columns, stacking the dataframe, renaming columns and replacing values. The transformed data is then returned."
   ]
  },
  {
   "cell_type": "code",
   "execution_count": null,
   "id": "6f374a1c",
   "metadata": {},
   "outputs": [],
   "source": [
    "def transform_data(data):\n",
    "    try:\n",
    "        # convert the nested JSON object into dataframe\n",
    "        df = pd.json_normalize(data['data'])\n",
    "        # look at the coin trends over time\n",
    "        df2 = df.groupby('name', sort=False)[['quote.USD.percent_change_1h','quote.USD.percent_change_24h','quote.USD.percent_change_7d','quote.USD.percent_change_30d','quote.USD.percent_change_60d','quote.USD.percent_change_90d']].mean()\n",
    "        # stacked the data to be able to visualize\n",
    "        df3 = df2.stack()\n",
    "        # convert from series to dataframe and reset the index\n",
    "        df3 = df3.to_frame(name='values').reset_index()\n",
    "        # rename the column to represent the coin trend\n",
    "        df3.rename(columns={'level_1':'percent_change'}, inplace = True)\n",
    "        # rename ambiguous title to simplified ones\n",
    "        df3['percent_change'] = df3['percent_change'].replace(['quote.USD.percent_change_1h','quote.USD.percent_change_24h','quote.USD.percent_change_7d','quote.USD.percent_change_30d','quote.USD.percent_change_60d','quote.USD.percent_change_90d'],['1h','24h','7d','30d','60d','90d'])\n",
    "        # add time stamp the data was collected\n",
    "        df3['timestamp'] = pd.to_datetime('now')\n",
    "        return df3\n",
    "    except Exception as e:\n",
    "        print(e)"
   ]
  },
  {
   "cell_type": "markdown",
   "id": "80650fa9",
   "metadata": {},
   "source": [
    "<h2 id=\"import_data\">3. Load</h2>\n",
    "\n",
    "The load stage is where the transformed data is loaded into the database. In this code snippet, the transformed data is saved as a CSV file using the **pandas** library, and then read back into a dataframe for further analysis or visualization. The function also calls **run_api_repeatedly()** to run the ETL pipeline again and again."
   ]
  },
  {
   "cell_type": "code",
   "execution_count": null,
   "id": "d91265ae",
   "metadata": {},
   "outputs": [],
   "source": [
    "def load_data(transformed_data):\n",
    "    try:\n",
    "        print(transformed_data)\n",
    "        # create a csv and append data to it\n",
    "        if not os.path.isfile(r'C:\\Users\\Muham\\Portfolio Projects\\CryptoETL.csv'):\n",
    "            transformed_data.to_csv(r'C:\\Users\\Muham\\Portfolio Projects\\CryptoETL.csv', header = 'column_names')\n",
    "        else:\n",
    "            transformed_data.to_csv(r'C:\\Users\\Muham\\Portfolio Projects\\CryptoETL.csv', mode = 'a', header = False)\n",
    "        loaded_data = pd.read_csv(r'C:\\Users\\Muham\\Portfolio Projects\\CryptoETL.csv')\n",
    "        run_api_repeatedly()\n",
    "        return loaded_data\n",
    "    except Exception as e:\n",
    "        print(e)\n",
    "\n",
    "#Run the API function based on the specific criteria      \n",
    "def run_api_repeatedly():\n",
    "    import os\n",
    "    from time import time\n",
    "    from time import sleep\n",
    "    for i in range(333): #CoinMarketCap API allow 333 runs per day\n",
    "        print('API Runner completed successfully')\n",
    "        sleep(60) #sleep for 1 minute\n",
    "    exit()"
   ]
  },
  {
   "cell_type": "markdown",
   "id": "168ede37",
   "metadata": {},
   "source": [
    "<h2 id=\"import_data\">Calling ETL Pipeline</h2>\n",
    "\n",
    "This function is responsible for executing all the steps of the ETL pipeline and also it takes care of any errors that occur during the process, it returns a message indicating whether the pipeline was executed successfully or not."
   ]
  },
  {
   "cell_type": "code",
   "execution_count": 5,
   "id": "09937e82",
   "metadata": {},
   "outputs": [],
   "source": [
    "def run_etl():\n",
    "    try:\n",
    "        data = extract_data()\n",
    "        transformed_data = transform_data(data)\n",
    "        loaded_data = load_data(transformed_data)\n",
    "        print(\"ETL pipeline completed successfully.\")\n",
    "        return loaded_data\n",
    "    except Exception as e:\n",
    "        print(\"Error in ETL pipeline: {}\".format(str(e)))"
   ]
  },
  {
   "cell_type": "code",
   "execution_count": 6,
   "id": "86212759",
   "metadata": {},
   "outputs": [
    {
     "name": "stdout",
     "output_type": "stream",
     "text": [
      "{'status': {'timestamp': '2023-01-17T04:29:24.588Z', 'error_code': 0, 'error_message': None, 'elapsed': 18, 'credit_count': 1, 'notice': None, 'total_count': 8865}, 'data': [{'id': 1, 'name': 'Bitcoin', 'symbol': 'BTC', 'slug': 'bitcoin', 'num_market_pairs': 9933, 'date_added': '2013-04-28T00:00:00.000Z', 'tags': ['mineable', 'pow', 'sha-256', 'store-of-value', 'state-channel', 'coinbase-ventures-portfolio', 'three-arrows-capital-portfolio', 'polychain-capital-portfolio', 'binance-labs-portfolio', 'blockchain-capital-portfolio', 'boostvc-portfolio', 'cms-holdings-portfolio', 'dcg-portfolio', 'dragonfly-capital-portfolio', 'electric-capital-portfolio', 'fabric-ventures-portfolio', 'framework-ventures-portfolio', 'galaxy-digital-portfolio', 'huobi-capital-portfolio', 'alameda-research-portfolio', 'a16z-portfolio', '1confirmation-portfolio', 'winklevoss-capital-portfolio', 'usv-portfolio', 'placeholder-ventures-portfolio', 'pantera-capital-portfolio', 'multicoin-capital-portfolio', 'paradigm-portfolio'], 'max_supply': 21000000, 'circulating_supply': 19264550, 'total_supply': 19264550, 'platform': None, 'cmc_rank': 1, 'self_reported_circulating_supply': None, 'self_reported_market_cap': None, 'tvl_ratio': None, 'last_updated': '2023-01-17T04:26:00.000Z', 'quote': {'USD': {'price': 21171.18525497222, 'volume_24h': 24396090655.723682, 'volume_change_24h': 13.548, 'percent_change_1h': 0.3214206, 'percent_change_24h': 0.35424157, 'percent_change_7d': 23.00430513, 'percent_change_30d': 26.16039003, 'percent_change_60d': 25.89522183, 'percent_change_90d': 9.71463676, 'market_cap': 407853356903.6751, 'market_cap_dominance': 41.2501, 'fully_diluted_market_cap': 444594890354.42, 'tvl': None, 'last_updated': '2023-01-17T04:26:00.000Z'}}}, {'id': 1027, 'name': 'Ethereum', 'symbol': 'ETH', 'slug': 'ethereum', 'num_market_pairs': 6361, 'date_added': '2015-08-07T00:00:00.000Z', 'tags': ['pos', 'smart-contracts', 'ethereum-ecosystem', 'coinbase-ventures-portfolio', 'three-arrows-capital-portfolio', 'polychain-capital-portfolio', 'binance-labs-portfolio', 'blockchain-capital-portfolio', 'boostvc-portfolio', 'cms-holdings-portfolio', 'dcg-portfolio', 'dragonfly-capital-portfolio', 'electric-capital-portfolio', 'fabric-ventures-portfolio', 'framework-ventures-portfolio', 'hashkey-capital-portfolio', 'kenetic-capital-portfolio', 'huobi-capital-portfolio', 'alameda-research-portfolio', 'a16z-portfolio', '1confirmation-portfolio', 'winklevoss-capital-portfolio', 'usv-portfolio', 'placeholder-ventures-portfolio', 'pantera-capital-portfolio', 'multicoin-capital-portfolio', 'paradigm-portfolio', 'injective-ecosystem'], 'max_supply': None, 'circulating_supply': 122373866.2178, 'total_supply': 122373866.2178, 'platform': None, 'cmc_rank': 2, 'self_reported_circulating_supply': None, 'self_reported_market_cap': None, 'tvl_ratio': None, 'last_updated': '2023-01-17T04:26:00.000Z', 'quote': {'USD': {'price': 1567.6057098344395, 'volume_24h': 8200722801.103149, 'volume_change_24h': 17.433, 'percent_change_1h': 0.48203458, 'percent_change_24h': -0.13189158, 'percent_change_7d': 18.37542822, 'percent_change_30d': 31.38181178, 'percent_change_60d': 28.68259381, 'percent_change_90d': 20.16615054, 'market_cap': 191833971417.53912, 'market_cap_dominance': 19.402, 'fully_diluted_market_cap': 191833971417.54, 'tvl': None, 'last_updated': '2023-01-17T04:26:00.000Z'}}}, {'id': 825, 'name': 'Tether', 'symbol': 'USDT', 'slug': 'tether', 'num_market_pairs': 46167, 'date_added': '2015-02-25T00:00:00.000Z', 'tags': ['payments', 'stablecoin', 'asset-backed-stablecoin', 'avalanche-ecosystem', 'solana-ecosystem', 'arbitrum-ecosytem', 'moonriver-ecosystem', 'injective-ecosystem', 'bnb-chain', 'usd-stablecoin'], 'max_supply': None, 'circulating_supply': 66484835813.38356, 'total_supply': 73141766321.23428, 'platform': {'id': 1027, 'name': 'Ethereum', 'symbol': 'ETH', 'slug': 'ethereum', 'token_address': '0xdac17f958d2ee523a2206206994597c13d831ec7'}, 'cmc_rank': 3, 'self_reported_circulating_supply': None, 'self_reported_market_cap': None, 'tvl_ratio': None, 'last_updated': '2023-01-17T04:26:00.000Z', 'quote': {'USD': {'price': 1.000097443530494, 'volume_24h': 33254830158.46085, 'volume_change_24h': 5.7641, 'percent_change_1h': 0.00012245, 'percent_change_24h': -0.03062903, 'percent_change_7d': 0.00731342, 'percent_change_30d': -0.00247334, 'percent_change_60d': 0.06586468, 'percent_change_90d': 0.0032861, 'market_cap': 66491314330.50952, 'market_cap_dominance': 6.7342, 'fully_diluted_market_cap': 73148893513.17, 'tvl': None, 'last_updated': '2023-01-17T04:26:00.000Z'}}}, {'id': 1839, 'name': 'BNB', 'symbol': 'BNB', 'slug': 'bnb', 'num_market_pairs': 1169, 'date_added': '2017-07-25T00:00:00.000Z', 'tags': ['marketplace', 'centralized-exchange', 'payments', 'smart-contracts', 'alameda-research-portfolio', 'multicoin-capital-portfolio', 'bnb-chain'], 'max_supply': 200000000, 'circulating_supply': 159961770.93035504, 'total_supply': 159979963.59042934, 'platform': None, 'cmc_rank': 4, 'self_reported_circulating_supply': None, 'self_reported_market_cap': None, 'tvl_ratio': None, 'last_updated': '2023-01-17T04:26:00.000Z', 'quote': {'USD': {'price': 299.89212439764515, 'volume_24h': 576598274.4112216, 'volume_change_24h': 5.0691, 'percent_change_1h': 0.22187879, 'percent_change_24h': -1.58401739, 'percent_change_7d': 9.66777944, 'percent_change_30d': 21.02749434, 'percent_change_60d': 10.56671882, 'percent_change_90d': 10.05218208, 'market_cap': 47971275306.71365, 'market_cap_dominance': 4.8518, 'fully_diluted_market_cap': 59978424879.53, 'tvl': None, 'last_updated': '2023-01-17T04:26:00.000Z'}}}, {'id': 3408, 'name': 'USD Coin', 'symbol': 'USDC', 'slug': 'usd-coin', 'num_market_pairs': 9560, 'date_added': '2018-10-08T00:00:00.000Z', 'tags': ['medium-of-exchange', 'stablecoin', 'asset-backed-stablecoin', 'fantom-ecosystem', 'arbitrum-ecosytem', 'moonriver-ecosystem', 'bnb-chain', 'usd-stablecoin'], 'max_supply': None, 'circulating_supply': 43876771205.20129, 'total_supply': 43876771205.20129, 'platform': {'id': 1027, 'name': 'Ethereum', 'symbol': 'ETH', 'slug': 'ethereum', 'token_address': '0xa0b86991c6218b36c1d19d4a2e9eb0ce3606eb48'}, 'cmc_rank': 5, 'self_reported_circulating_supply': None, 'self_reported_market_cap': None, 'tvl_ratio': None, 'last_updated': '2023-01-17T04:26:00.000Z', 'quote': {'USD': {'price': 1.0001172904779068, 'volume_24h': 2879481429.0346937, 'volume_change_24h': 7.981, 'percent_change_1h': 0.00902454, 'percent_change_24h': 0.01700598, 'percent_change_7d': 0.00437496, 'percent_change_30d': -0.00586339, 'percent_change_60d': -0.0090533, 'percent_change_90d': 0.01735683, 'market_cap': 43881917532.66495, 'market_cap_dominance': 4.4368, 'fully_diluted_market_cap': 43881917532.66, 'tvl': None, 'last_updated': '2023-01-17T04:26:00.000Z'}}}, {'id': 52, 'name': 'XRP', 'symbol': 'XRP', 'slug': 'xrp', 'num_market_pairs': 875, 'date_added': '2013-08-04T00:00:00.000Z', 'tags': ['medium-of-exchange', 'enterprise-solutions', 'arrington-xrp-capital-portfolio', 'galaxy-digital-portfolio', 'a16z-portfolio', 'pantera-capital-portfolio'], 'max_supply': 100000000000, 'circulating_supply': 50713323547, 'total_supply': 99989156648, 'platform': None, 'cmc_rank': 6, 'self_reported_circulating_supply': None, 'self_reported_market_cap': None, 'tvl_ratio': None, 'last_updated': '2023-01-17T04:26:00.000Z', 'quote': {'USD': {'price': 0.38459796814859515, 'volume_24h': 1329433853.7361188, 'volume_change_24h': 37.2195, 'percent_change_1h': 0.7003159, 'percent_change_24h': -4.38962159, 'percent_change_7d': 10.3358058, 'percent_change_30d': 8.52269442, 'percent_change_60d': 1.2824315, 'percent_change_90d': -16.67135706, 'market_cap': 19504241194.238506, 'market_cap_dominance': 1.9757, 'fully_diluted_market_cap': 38459796814.86, 'tvl': None, 'last_updated': '2023-01-17T04:26:00.000Z'}}}, {'id': 4687, 'name': 'Binance USD', 'symbol': 'BUSD', 'slug': 'binance-usd', 'num_market_pairs': 6028, 'date_added': '2019-09-20T00:00:00.000Z', 'tags': ['stablecoin', 'asset-backed-stablecoin', 'binance-chain', 'harmony-ecosystem', 'moonriver-ecosystem', 'usd-stablecoin'], 'max_supply': None, 'circulating_supply': 16242596010.614058, 'total_supply': 16242596010.614058, 'platform': {'id': 1839, 'name': 'BNB', 'symbol': 'BNB', 'slug': 'bnb', 'token_address': 'BUSD-BD1'}, 'cmc_rank': 7, 'self_reported_circulating_supply': None, 'self_reported_market_cap': None, 'tvl_ratio': None, 'last_updated': '2023-01-17T04:26:00.000Z', 'quote': {'USD': {'price': 1.0001683417013332, 'volume_24h': 8402811670.631208, 'volume_change_24h': 8.951, 'percent_change_1h': 0.01428599, 'percent_change_24h': 0.02697582, 'percent_change_7d': -0.00784816, 'percent_change_30d': 0.03644989, 'percent_change_60d': -0.03878709, 'percent_change_90d': 0.00328218, 'market_cap': 16245330316.860552, 'market_cap_dominance': 1.6425, 'fully_diluted_market_cap': 16245330316.86, 'tvl': None, 'last_updated': '2023-01-17T04:26:00.000Z'}}}, {'id': 2010, 'name': 'Cardano', 'symbol': 'ADA', 'slug': 'cardano', 'num_market_pairs': 636, 'date_added': '2017-10-01T00:00:00.000Z', 'tags': ['dpos', 'pos', 'platform', 'research', 'smart-contracts', 'staking', 'cardano-ecosystem', 'cardano'], 'max_supply': 45000000000, 'circulating_supply': 34518349157.412, 'total_supply': 35303937971.934, 'platform': None, 'cmc_rank': 8, 'self_reported_circulating_supply': None, 'self_reported_market_cap': None, 'tvl_ratio': None, 'last_updated': '2023-01-17T04:26:00.000Z', 'quote': {'USD': {'price': 0.3491118575437337, 'volume_24h': 365784357.6519245, 'volume_change_24h': 2.5249, 'percent_change_1h': 0.46333067, 'percent_change_24h': -2.47168322, 'percent_change_7d': 11.41076041, 'percent_change_30d': 29.58259157, 'percent_change_60d': 6.24995862, 'percent_change_90d': -2.92024495, 'market_cap': 12050764993.687279, 'market_cap_dominance': 1.2188, 'fully_diluted_market_cap': 15710033589.47, 'tvl': None, 'last_updated': '2023-01-17T04:26:00.000Z'}}}, {'id': 74, 'name': 'Dogecoin', 'symbol': 'DOGE', 'slug': 'dogecoin', 'num_market_pairs': 634, 'date_added': '2013-12-15T00:00:00.000Z', 'tags': ['mineable', 'pow', 'scrypt', 'medium-of-exchange', 'memes', 'payments', 'doggone-doggerel', 'bnb-chain'], 'max_supply': None, 'circulating_supply': 132670764299.89409, 'total_supply': 132670764299.89409, 'platform': None, 'cmc_rank': 9, 'self_reported_circulating_supply': None, 'self_reported_market_cap': None, 'tvl_ratio': None, 'last_updated': '2023-01-17T04:26:00.000Z', 'quote': {'USD': {'price': 0.08378817595225163, 'volume_24h': 479424394.4070303, 'volume_change_24h': -3.9464, 'percent_change_1h': 0.64866674, 'percent_change_24h': -3.35659662, 'percent_change_7d': 10.80665591, 'percent_change_30d': 5.03163191, 'percent_change_60d': -2.33368492, 'percent_change_90d': 39.91286642, 'market_cap': 11116241342.87923, 'market_cap_dominance': 1.1258, 'fully_diluted_market_cap': 11116241342.88, 'tvl': None, 'last_updated': '2023-01-17T04:26:00.000Z'}}}, {'id': 3890, 'name': 'Polygon', 'symbol': 'MATIC', 'slug': 'polygon', 'num_market_pairs': 571, 'date_added': '2019-04-28T00:00:00.000Z', 'tags': ['platform', 'enterprise-solutions', 'scaling', 'state-channel', 'coinbase-ventures-portfolio', 'binance-launchpad', 'binance-labs-portfolio', 'polygon-ecosystem', 'moonriver-ecosystem', 'injective-ecosystem'], 'max_supply': 10000000000, 'circulating_supply': 8734317475.28493, 'total_supply': 10000000000, 'platform': None, 'cmc_rank': 10, 'self_reported_circulating_supply': None, 'self_reported_market_cap': None, 'tvl_ratio': None, 'last_updated': '2023-01-17T04:26:00.000Z', 'quote': {'USD': {'price': 1.014725509015368, 'volume_24h': 626672313.5859848, 'volume_change_24h': 26.4892, 'percent_change_1h': 0.26733816, 'percent_change_24h': -0.79071132, 'percent_change_7d': 19.78385645, 'percent_change_30d': 23.40507181, 'percent_change_60d': 14.08856611, 'percent_change_90d': 17.92602354, 'market_cap': 8862934746.010323, 'market_cap_dominance': 0.8961, 'fully_diluted_market_cap': 10147255090.15, 'tvl': None, 'last_updated': '2023-01-17T04:26:00.000Z'}}}]}\n",
      "           name percent_change     values                  timestamp\n",
      "0       Bitcoin             1h   0.321421 2023-01-17 04:29:24.987673\n",
      "1       Bitcoin            24h   0.354242 2023-01-17 04:29:24.987673\n",
      "2       Bitcoin             7d  23.004305 2023-01-17 04:29:24.987673\n",
      "3       Bitcoin            30d  26.160390 2023-01-17 04:29:24.987673\n",
      "4       Bitcoin            60d  25.895222 2023-01-17 04:29:24.987673\n",
      "5       Bitcoin            90d   9.714637 2023-01-17 04:29:24.987673\n",
      "6      Ethereum             1h   0.482035 2023-01-17 04:29:24.987673\n",
      "7      Ethereum            24h  -0.131892 2023-01-17 04:29:24.987673\n",
      "8      Ethereum             7d  18.375428 2023-01-17 04:29:24.987673\n",
      "9      Ethereum            30d  31.381812 2023-01-17 04:29:24.987673\n",
      "10     Ethereum            60d  28.682594 2023-01-17 04:29:24.987673\n",
      "11     Ethereum            90d  20.166151 2023-01-17 04:29:24.987673\n",
      "12       Tether             1h   0.000122 2023-01-17 04:29:24.987673\n",
      "13       Tether            24h  -0.030629 2023-01-17 04:29:24.987673\n",
      "14       Tether             7d   0.007313 2023-01-17 04:29:24.987673\n",
      "15       Tether            30d  -0.002473 2023-01-17 04:29:24.987673\n",
      "16       Tether            60d   0.065865 2023-01-17 04:29:24.987673\n",
      "17       Tether            90d   0.003286 2023-01-17 04:29:24.987673\n",
      "18          BNB             1h   0.221879 2023-01-17 04:29:24.987673\n",
      "19          BNB            24h  -1.584017 2023-01-17 04:29:24.987673\n",
      "20          BNB             7d   9.667779 2023-01-17 04:29:24.987673\n",
      "21          BNB            30d  21.027494 2023-01-17 04:29:24.987673\n",
      "22          BNB            60d  10.566719 2023-01-17 04:29:24.987673\n",
      "23          BNB            90d  10.052182 2023-01-17 04:29:24.987673\n",
      "24     USD Coin             1h   0.009025 2023-01-17 04:29:24.987673\n",
      "25     USD Coin            24h   0.017006 2023-01-17 04:29:24.987673\n",
      "26     USD Coin             7d   0.004375 2023-01-17 04:29:24.987673\n",
      "27     USD Coin            30d  -0.005863 2023-01-17 04:29:24.987673\n",
      "28     USD Coin            60d  -0.009053 2023-01-17 04:29:24.987673\n",
      "29     USD Coin            90d   0.017357 2023-01-17 04:29:24.987673\n",
      "30          XRP             1h   0.700316 2023-01-17 04:29:24.987673\n",
      "31          XRP            24h  -4.389622 2023-01-17 04:29:24.987673\n",
      "32          XRP             7d  10.335806 2023-01-17 04:29:24.987673\n",
      "33          XRP            30d   8.522694 2023-01-17 04:29:24.987673\n",
      "34          XRP            60d   1.282431 2023-01-17 04:29:24.987673\n",
      "35          XRP            90d -16.671357 2023-01-17 04:29:24.987673\n",
      "36  Binance USD             1h   0.014286 2023-01-17 04:29:24.987673\n",
      "37  Binance USD            24h   0.026976 2023-01-17 04:29:24.987673\n",
      "38  Binance USD             7d  -0.007848 2023-01-17 04:29:24.987673\n",
      "39  Binance USD            30d   0.036450 2023-01-17 04:29:24.987673\n",
      "40  Binance USD            60d  -0.038787 2023-01-17 04:29:24.987673\n",
      "41  Binance USD            90d   0.003282 2023-01-17 04:29:24.987673\n",
      "42      Cardano             1h   0.463331 2023-01-17 04:29:24.987673\n",
      "43      Cardano            24h  -2.471683 2023-01-17 04:29:24.987673\n",
      "44      Cardano             7d  11.410760 2023-01-17 04:29:24.987673\n",
      "45      Cardano            30d  29.582592 2023-01-17 04:29:24.987673\n",
      "46      Cardano            60d   6.249959 2023-01-17 04:29:24.987673\n",
      "47      Cardano            90d  -2.920245 2023-01-17 04:29:24.987673\n",
      "48     Dogecoin             1h   0.648667 2023-01-17 04:29:24.987673\n",
      "49     Dogecoin            24h  -3.356597 2023-01-17 04:29:24.987673\n",
      "50     Dogecoin             7d  10.806656 2023-01-17 04:29:24.987673\n",
      "51     Dogecoin            30d   5.031632 2023-01-17 04:29:24.987673\n",
      "52     Dogecoin            60d  -2.333685 2023-01-17 04:29:24.987673\n",
      "53     Dogecoin            90d  39.912866 2023-01-17 04:29:24.987673\n",
      "54      Polygon             1h   0.267338 2023-01-17 04:29:24.987673\n",
      "55      Polygon            24h  -0.790711 2023-01-17 04:29:24.987673\n",
      "56      Polygon             7d  19.783856 2023-01-17 04:29:24.987673\n",
      "57      Polygon            30d  23.405072 2023-01-17 04:29:24.987673\n",
      "58      Polygon            60d  14.088566 2023-01-17 04:29:24.987673\n",
      "59      Polygon            90d  17.926024 2023-01-17 04:29:24.987673\n",
      "API Runner completed successfully\n"
     ]
    },
    {
     "name": "stderr",
     "output_type": "stream",
     "text": [
      "C:\\Users\\Muham\\AppData\\Local\\Temp\\ipykernel_58172\\3772726639.py:9: FutureWarning: The parsing of 'now' in pd.to_datetime without `utc=True` is deprecated. In a future version, this will match Timestamp('now') and Timestamp.now()\n",
      "  df3['timestamp'] = pd.to_datetime('now')\n"
     ]
    },
    {
     "name": "stdout",
     "output_type": "stream",
     "text": [
      "API Runner completed successfully\n",
      "API Runner completed successfully\n",
      "API Runner completed successfully\n",
      "API Runner completed successfully\n",
      "API Runner completed successfully\n",
      "API Runner completed successfully\n",
      "API Runner completed successfully\n",
      "API Runner completed successfully\n",
      "API Runner completed successfully\n",
      "API Runner completed successfully\n",
      "API Runner completed successfully\n",
      "API Runner completed successfully\n",
      "API Runner completed successfully\n"
     ]
    },
    {
     "ename": "KeyboardInterrupt",
     "evalue": "",
     "output_type": "error",
     "traceback": [
      "\u001b[1;31m---------------------------------------------------------------------------\u001b[0m",
      "\u001b[1;31mKeyboardInterrupt\u001b[0m                         Traceback (most recent call last)",
      "\u001b[1;32m~\\AppData\\Local\\Temp\\ipykernel_58172\\2927170160.py\u001b[0m in \u001b[0;36m<module>\u001b[1;34m\u001b[0m\n\u001b[1;32m----> 1\u001b[1;33m \u001b[0mrun_etl\u001b[0m\u001b[1;33m(\u001b[0m\u001b[1;33m)\u001b[0m\u001b[1;33m\u001b[0m\u001b[1;33m\u001b[0m\u001b[0m\n\u001b[0m",
      "\u001b[1;32m~\\AppData\\Local\\Temp\\ipykernel_58172\\3265798946.py\u001b[0m in \u001b[0;36mrun_etl\u001b[1;34m()\u001b[0m\n\u001b[0;32m      3\u001b[0m         \u001b[0mdata\u001b[0m \u001b[1;33m=\u001b[0m \u001b[0mextract_data\u001b[0m\u001b[1;33m(\u001b[0m\u001b[1;33m)\u001b[0m\u001b[1;33m\u001b[0m\u001b[1;33m\u001b[0m\u001b[0m\n\u001b[0;32m      4\u001b[0m         \u001b[0mtransformed_data\u001b[0m \u001b[1;33m=\u001b[0m \u001b[0mtransform_data\u001b[0m\u001b[1;33m(\u001b[0m\u001b[0mdata\u001b[0m\u001b[1;33m)\u001b[0m\u001b[1;33m\u001b[0m\u001b[1;33m\u001b[0m\u001b[0m\n\u001b[1;32m----> 5\u001b[1;33m         \u001b[0mloaded_data\u001b[0m \u001b[1;33m=\u001b[0m \u001b[0mload_data\u001b[0m\u001b[1;33m(\u001b[0m\u001b[0mtransformed_data\u001b[0m\u001b[1;33m)\u001b[0m\u001b[1;33m\u001b[0m\u001b[1;33m\u001b[0m\u001b[0m\n\u001b[0m\u001b[0;32m      6\u001b[0m         \u001b[0mprint\u001b[0m\u001b[1;33m(\u001b[0m\u001b[1;34m\"ETL pipeline completed successfully.\"\u001b[0m\u001b[1;33m)\u001b[0m\u001b[1;33m\u001b[0m\u001b[1;33m\u001b[0m\u001b[0m\n\u001b[0;32m      7\u001b[0m         \u001b[1;32mreturn\u001b[0m \u001b[0mloaded_data\u001b[0m\u001b[1;33m\u001b[0m\u001b[1;33m\u001b[0m\u001b[0m\n",
      "\u001b[1;32m~\\AppData\\Local\\Temp\\ipykernel_58172\\3744464341.py\u001b[0m in \u001b[0;36mload_data\u001b[1;34m(transformed_data)\u001b[0m\n\u001b[0;32m      7\u001b[0m             \u001b[0mtransformed_data\u001b[0m\u001b[1;33m.\u001b[0m\u001b[0mto_csv\u001b[0m\u001b[1;33m(\u001b[0m\u001b[1;34mr'C:\\Users\\Muham\\Portfolio Projects\\CryptoETL.csv'\u001b[0m\u001b[1;33m,\u001b[0m \u001b[0mmode\u001b[0m \u001b[1;33m=\u001b[0m \u001b[1;34m'a'\u001b[0m\u001b[1;33m,\u001b[0m \u001b[0mheader\u001b[0m \u001b[1;33m=\u001b[0m \u001b[1;32mFalse\u001b[0m\u001b[1;33m)\u001b[0m\u001b[1;33m\u001b[0m\u001b[1;33m\u001b[0m\u001b[0m\n\u001b[0;32m      8\u001b[0m         \u001b[0mloaded_data\u001b[0m \u001b[1;33m=\u001b[0m \u001b[0mpd\u001b[0m\u001b[1;33m.\u001b[0m\u001b[0mread_csv\u001b[0m\u001b[1;33m(\u001b[0m\u001b[1;34mr'C:\\Users\\Muham\\Portfolio Projects\\CryptoETL.csv'\u001b[0m\u001b[1;33m)\u001b[0m\u001b[1;33m\u001b[0m\u001b[1;33m\u001b[0m\u001b[0m\n\u001b[1;32m----> 9\u001b[1;33m         \u001b[0mrun_api_repeatedly\u001b[0m\u001b[1;33m(\u001b[0m\u001b[1;33m)\u001b[0m\u001b[1;33m\u001b[0m\u001b[1;33m\u001b[0m\u001b[0m\n\u001b[0m\u001b[0;32m     10\u001b[0m         \u001b[1;32mreturn\u001b[0m \u001b[0mloaded_data\u001b[0m\u001b[1;33m\u001b[0m\u001b[1;33m\u001b[0m\u001b[0m\n\u001b[0;32m     11\u001b[0m     \u001b[1;32mexcept\u001b[0m \u001b[0mException\u001b[0m \u001b[1;32mas\u001b[0m \u001b[0me\u001b[0m\u001b[1;33m:\u001b[0m\u001b[1;33m\u001b[0m\u001b[1;33m\u001b[0m\u001b[0m\n",
      "\u001b[1;32m~\\AppData\\Local\\Temp\\ipykernel_58172\\3744464341.py\u001b[0m in \u001b[0;36mrun_api_repeatedly\u001b[1;34m()\u001b[0m\n\u001b[0;32m     18\u001b[0m     \u001b[1;32mfor\u001b[0m \u001b[0mi\u001b[0m \u001b[1;32min\u001b[0m \u001b[0mrange\u001b[0m\u001b[1;33m(\u001b[0m\u001b[1;36m333\u001b[0m\u001b[1;33m)\u001b[0m\u001b[1;33m:\u001b[0m \u001b[1;31m#CoinMarketCap API allow 333 runs per day\u001b[0m\u001b[1;33m\u001b[0m\u001b[1;33m\u001b[0m\u001b[0m\n\u001b[0;32m     19\u001b[0m         \u001b[0mprint\u001b[0m\u001b[1;33m(\u001b[0m\u001b[1;34m'API Runner completed successfully'\u001b[0m\u001b[1;33m)\u001b[0m\u001b[1;33m\u001b[0m\u001b[1;33m\u001b[0m\u001b[0m\n\u001b[1;32m---> 20\u001b[1;33m         \u001b[0msleep\u001b[0m\u001b[1;33m(\u001b[0m\u001b[1;36m60\u001b[0m\u001b[1;33m)\u001b[0m \u001b[1;31m#sleep for 1 minute\u001b[0m\u001b[1;33m\u001b[0m\u001b[1;33m\u001b[0m\u001b[0m\n\u001b[0m\u001b[0;32m     21\u001b[0m     \u001b[0mexit\u001b[0m\u001b[1;33m(\u001b[0m\u001b[1;33m)\u001b[0m\u001b[1;33m\u001b[0m\u001b[1;33m\u001b[0m\u001b[0m\n",
      "\u001b[1;31mKeyboardInterrupt\u001b[0m: "
     ]
    }
   ],
   "source": [
    "#Call the function to execute ETL pipeline\n",
    "run_etl()"
   ]
  }
 ],
 "metadata": {
  "kernelspec": {
   "display_name": "Python 3 (ipykernel)",
   "language": "python",
   "name": "python3"
  },
  "language_info": {
   "codemirror_mode": {
    "name": "ipython",
    "version": 3
   },
   "file_extension": ".py",
   "mimetype": "text/x-python",
   "name": "python",
   "nbconvert_exporter": "python",
   "pygments_lexer": "ipython3",
   "version": "3.9.13"
  }
 },
 "nbformat": 4,
 "nbformat_minor": 5
}
